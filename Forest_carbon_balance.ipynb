{
  "nbformat": 4,
  "nbformat_minor": 0,
  "metadata": {
    "colab": {
      "provenance": [],
      "authorship_tag": "ABX9TyMLJJRTdN0ggQDwNjW20nP0",
      "include_colab_link": true
    },
    "kernelspec": {
      "name": "python3",
      "display_name": "Python 3"
    },
    "language_info": {
      "name": "python"
    }
  },
  "cells": [
    {
      "cell_type": "markdown",
      "metadata": {
        "id": "view-in-github",
        "colab_type": "text"
      },
      "source": [
        "<a href=\"https://colab.research.google.com/github/AMRowe99/ES_Class/blob/main/Forest_carbon_balance.ipynb\" target=\"_parent\"><img src=\"https://colab.research.google.com/assets/colab-badge.svg\" alt=\"Open In Colab\"/></a>"
      ]
    },
    {
      "cell_type": "code",
      "source": [
        "import numpy as np\n",
        "import sympy as smp\n",
        "import matplotlib.pyplot as plt\n",
        "\n",
        "#%precision 1\n",
        "# See for documentation and help\n",
        "# https://docs.sympy.org/latest/guides/solving/solve-ode.html"
      ],
      "metadata": {
        "id": "FDP3o--PDmzi",
        "colab": {
          "base_uri": "https://localhost:8080/",
          "height": 36
        },
        "outputId": "fedca1e8-6cbd-4b68-f63d-8655b8efc4b3"
      },
      "execution_count": 1,
      "outputs": [
        {
          "output_type": "execute_result",
          "data": {
            "text/plain": [
              "'%.1f'"
            ],
            "application/vnd.google.colaboratory.intrinsic+json": {
              "type": "string"
            }
          },
          "metadata": {},
          "execution_count": 1
        }
      ]
    },
    {
      "cell_type": "markdown",
      "source": [
        "# Forest Carbon Stock\n",
        "We are given a function that specifies the carbon in an area of biomass of a given age.\n",
        "\n",
        "Carbon Content: $C(t) =\\tau S \\left(1-exp(\\frac{t}{\\tau}) \\right)^{m}$ [tC/ha]\n",
        "\n",
        "If we sustainably manage a forest of a given total area by harvesting a fraction of the area and immediately replanting, we create steady-state forest with a net annual removal of carbon from the atmosphere.\n",
        "\n",
        "If we modify our harvest process so that we are continually harvesting and replanting at a rate that results in the same fraction of area being harvested each year, then the mass of carbon in the forest would have a continuous age distribution. We would integrate the carbon content equation of the age distribution to determine the stock of carbon and the net removal rate.\n",
        "\n",
        "## Continuous Harvest\n",
        "\n",
        "The carbon stored in biomass is determined by integrating the biomass content per unit area over the total area of forest, $A_{F}$,\n",
        "\n",
        "\\begin{equation}\n",
        "C_{Forest} [tC]= \\int_{0}^{A_{F}}C(A)dA\n",
        "\\end{equation}\n",
        "\n",
        "where the age of forest is related to the area by,\n",
        "\n",
        "\\begin{equation}\n",
        "t_{age}=t_{oldest} \\frac{A}{A_{F}} →A=A_{F}\\frac{t_{age}}{t_{oldest}}\n",
        "\\end{equation}\n",
        "\n",
        "so,\n",
        "\n",
        "\\begin{equation}\n",
        "C_{Forest} [tC]= \\int_{0}^{t_{oldest}}C(t)\\frac{A_{F}}{t_{oldest}}dt\n",
        "\\end{equation}"
      ],
      "metadata": {
        "id": "PpeGwOn4CORE"
      }
    },
    {
      "cell_type": "code",
      "source": [
        "age, R, S, m, Af, tf= smp.symbols('t, R, S, m, A_{F}, t_{f}', real=True, positive=True)\n",
        "c_For= smp.symbols('C_{For}', real=True, positive=True)\n",
        "c_For=smp.Function(c_For)(age)  # Define the carbon in the forest as a function of age\n",
        "\n",
        "# create an expression for carbon content as a function of the above parameters\n",
        "c_For=R*S*(1-smp.exp(-age/R))**3  # tC/ha\n",
        "\n",
        "# integrate over the age of the forest, t\n",
        "# make sure to convert dA to dt\n",
        "carbon=smp.integrate(c_For*Af/tf, (age, 0, tf))\n",
        "\n",
        "# replace constants\n",
        "cforest=carbon.subs({R: 30, S: 4, m :3})\n",
        "\n",
        "cforest"
      ],
      "metadata": {
        "id": "n54BYvguAlJG",
        "colab": {
          "base_uri": "https://localhost:8080/",
          "height": 70
        },
        "outputId": "374ac684-6f29-407e-ef0f-f7b1febe5f86"
      },
      "execution_count": 10,
      "outputs": [
        {
          "output_type": "execute_result",
          "data": {
            "text/plain": [
              "120*A_{F} - 6600*A_{F}/t_{f} + (7200*A_{F}*t_{f}**2*exp(-t_{f}/10) - 32400*A_{F}*t_{f}**2*exp(-t_{f}/15) + 64800*A_{F}*t_{f}**2*exp(-t_{f}/30))/(6*t_{f}**3)"
            ],
            "text/latex": "$\\displaystyle 120 A_{F} - \\frac{6600 A_{F}}{t_{f}} + \\frac{7200 A_{F} t_{f}^{2} e^{- \\frac{t_{f}}{10}} - 32400 A_{F} t_{f}^{2} e^{- \\frac{t_{f}}{15}} + 64800 A_{F} t_{f}^{2} e^{- \\frac{t_{f}}{30}}}{6 t_{f}^{3}}$"
          },
          "metadata": {},
          "execution_count": 10
        }
      ]
    },
    {
      "cell_type": "code",
      "source": [
        "# Convert the symbolic solution to a numeric function for solving using lambdify\n",
        "Cforest_f=smp.lambdify([Af,tf], cforest) # create a numeric function from the symbolic expression\n",
        "\n",
        "# Set the forest parameters (size and rotation period)\n",
        "managed_area=20 # total are of managed forest [Mha]\n",
        "period=100      # harvest cycle period [years]\n",
        "\n",
        "# evaluate the numeric function with specified Af and toldest.\n",
        "biomass_carbon=Cforest_f(managed_area,period)\n",
        "\n",
        "print(f\"The carbon stored in a forest of {managed_area:1.1f} Mha and cycle period {period} years is {biomass_carbon:4.1f} MtC.\")"
      ],
      "metadata": {
        "colab": {
          "base_uri": "https://localhost:8080/"
        },
        "id": "eAhri_fxNtL3",
        "outputId": "fc2e806b-e31d-442c-862e-d2c2badafebe"
      },
      "execution_count": null,
      "outputs": [
        {
          "output_type": "stream",
          "name": "stdout",
          "text": [
            "The carbon stored in a forest of 20.0 Mha and cycle period 100 years is 1155.7 MtC.\n"
          ]
        }
      ]
    },
    {
      "cell_type": "code",
      "source": [
        "# plot carbon content as a function of harvest period\n",
        "\n",
        "# create an array of rotation periods\n",
        "harvest_period=np.linspace(5,500,100)\n",
        "mature_carbon=30*4\n",
        "max_carbon=managed_area*mature_carbon\n",
        "\n",
        "plt.plot(harvest_period,Cforest_f(20,harvest_period)/max_carbon)\n",
        "ax=plt.gca()\n",
        "ax.set_ylim([0, 1])\n",
        "ax.set_xlim([0,None])\n",
        "plt.ylabel('Relative C in Forest (vs mature) [-]')\n",
        "plt.xlabel('Harvest Period/Age of oldest tree')\n",
        "plt.plot(period, biomass_carbon/max_carbon, marker='o', markersize=8, color=\"red\")\n",
        "plt.vlines(period,0,biomass_carbon/max_carbon, colors='red', linestyles='dashed', label='Period')\n",
        "plt.show()\n",
        "\n",
        "# Note: a more realistic carbon potential would caputre a natural distribution of effective ages for subplots"
      ],
      "metadata": {
        "colab": {
          "base_uri": "https://localhost:8080/",
          "height": 455
        },
        "id": "6LdD1CI8F7K6",
        "outputId": "dd919024-ae8c-4f01-f1ae-c9467167875c"
      },
      "execution_count": null,
      "outputs": [
        {
          "output_type": "display_data",
          "data": {
            "text/plain": [
              "<Figure size 640x480 with 1 Axes>"
            ],
            "image/png": "[encoded data removed]"
          },
          "metadata": {}
        }
      ]
    },
    {
      "cell_type": "code",
      "source": [],
      "metadata": {
        "id": "aqzScNMDGlaK"
      },
      "execution_count": null,
      "outputs": []
    }
  ]
}