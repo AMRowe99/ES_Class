{
  "nbformat": 4,
  "nbformat_minor": 0,
  "metadata": {
    "colab": {
      "provenance": [],
      "authorship_tag": "ABX9TyOO5IBJ1w9yRHBrUTIGxpqI",
      "include_colab_link": true
    },
    "kernelspec": {
      "name": "python3",
      "display_name": "Python 3"
    },
    "language_info": {
      "name": "python"
    }
  },
  "cells": [
    {
      "cell_type": "markdown",
      "metadata": {
        "id": "view-in-github",
        "colab_type": "text"
      },
      "source": [
        "<a href=\"https://colab.research.google.com/github/AMRowe99/ES_Class/blob/main/Continuous_discounting.ipynb\" target=\"_parent\"><img src=\"https://colab.research.google.com/assets/colab-badge.svg\" alt=\"Open In Colab\"/></a>"
      ]
    },
    {
      "cell_type": "code",
      "source": [
        "import numpy as np\n",
        "import matplotlib.pyplot as plt"
      ],
      "metadata": {
        "id": "FDP3o--PDmzi"
      },
      "execution_count": 1,
      "outputs": []
    },
    {
      "cell_type": "markdown",
      "source": [
        "# Continuous Discounting\n",
        "Discrete discounting on a yearly basis is typical for long-life projects. Sometimes it is easier to use continuous accounting to analyze project economics.\n",
        "\n",
        "## Present Value of a Future Cost\n",
        "Assume we have a cost that occurs at some time in the future, $C(t)$. The present value of this cost $C_{0}$ is some fraction based on how far in the future it occurs and the discount rate. We can determine the discount function by considering the future value for a present value:\n",
        "\n",
        "\\begin{equation}\n",
        "\\frac{dP}{P}= i_{d}dt\n",
        "\\end{equation}\n",
        "\n",
        "and, solving for the future value $P(t) → F(t)$,\n",
        "\n",
        "\\begin{equation}\n",
        "\\int_{P_{0}}^{F(t)}\\frac{dP}{P}=\\int_{0}^{t}i_{d}dt^{*} → F(t)=P_{0}e^{it}\n",
        "\\end{equation}\n",
        "\n",
        "Thus, we can convert a future cost to a present cost using the reverse operation, ie.,\n",
        "\n",
        "\\begin{equation}\n",
        "P=F(t)e^{-it}\n",
        "\\end{equation}\n",
        "\n",
        "We can identify the \"discount function\" $f(t)$ or relative value of a future amounts as,\n",
        "\n",
        "\\begin{equation}\n",
        "f(t)=e^{-it}\n",
        "\\end{equation}"
      ],
      "metadata": {
        "id": "rTwwLaKV53Me"
      }
    },
    {
      "cell_type": "markdown",
      "source": [
        "## Present Value of a Uniform Series\n",
        "A present value can be converted to a uniform series of cash flows over some period using the capital recovery factor $CRF$. For continuous accounting, a uniform series is a constant value in time i.e. A(t) = A. We can determine present value by integrating the discounted annuity over the period of interest,\n",
        "\n",
        "\\begin{equation}\n",
        "P=\\int_{0}^{t}Ae^{-it}dt → P = A \\frac{1-e^{-it}}{i}\n",
        "\\end{equation}\n",
        "\n",
        "Thus, to convert a present value, $P$, to a constant annuity, $A$, we use the continuous capital recovery factor, $A = CRF \\times P$, where CRF is:\n",
        "\n",
        "\\begin{equation}\n",
        "CRF=\\frac{i}{1-e^{-it}}\n",
        "\\end{equation}"
      ],
      "metadata": {
        "id": "ha33sjZV-yHc"
      }
    },
    {
      "cell_type": "markdown",
      "source": [
        "## Annualized equivalent of a linear cost function\n",
        "Let's assume we have a cost that change linearly over time i.e.\n",
        "\n",
        "\\begin{equation}\n",
        "C(t)=mt+C_{0}\n",
        "\\end{equation}\n",
        "\n",
        "We can determine the levelized equivalent over a period by finding the present value and applying the CRF. One term is already levelized, $C_{0}$, so we only need to determine the present value of the linear component.\n",
        "\n",
        "\\begin{array}{c}\n",
        "PV \\{ mt \\} = \\int_{0}^{t^{*}} mt e^{-it}dt \\\\\n",
        " = m \\int_{0}^{t^{*}} te^{-it}dt \\\\\n",
        " = m\\left[ - \\frac{e^{-it}}{i^{2}} \\left( it+1 \\right) \\right]_{0}^{t^{*}} \\\\\n",
        "  = \\frac{m}{i^{2}} \\left[ 1 -e^{-it}(it+1) \\right]\n",
        "\\end{array}\n",
        "\n",
        "Multiplying by CRF and adding the constant gives the equivalent annuity,\n",
        "\n",
        "\\begin{equation}\n",
        "A = mt \\left( \\frac{1}{it} - \\frac{e^{-it}}{1 -e^{-it}} \\right) + C_{0}\n",
        "\\end{equation}"
      ],
      "metadata": {
        "id": "MQlHU1jUA3HK"
      }
    },
    {
      "cell_type": "markdown",
      "source": [
        "## Example\n",
        "\n",
        "Assume our linear cost function is the expected carbon tax going forward. We are interested in the impact of the carbon tax on thecost of energy generation using a carbon emitting technology. To include the carbon cost in our levelized cost, we need to determine the equivalent annuity over the life of the project."
      ],
      "metadata": {
        "id": "2-Flm55uDk6d"
      }
    },
    {
      "cell_type": "code",
      "source": [
        "C0=50     # initial cost $/tCO2\n",
        "Cf=100    # end cost  $/tCO2\n",
        "period=30 # years\n",
        "id=0.08   # discount rate\n",
        "\n",
        "m=(Cf-C0)/period\n",
        "\n",
        "Annuity = lambda t: m/id*(1-id*t*np.exp(-id*t)/(1-np.exp(-id*t)))+C0\n",
        "\n",
        "print(f\"The annualized cost of the linear function over the {period:2.0f} year period is {Annuity(period):3.1f} $/tCO2.\")"
      ],
      "metadata": {
        "id": "aqzScNMDGlaK",
        "colab": {
          "base_uri": "https://localhost:8080/"
        },
        "outputId": "ba449cbd-b007-4aae-8f56-6e74028efdff"
      },
      "execution_count": 12,
      "outputs": [
        {
          "output_type": "stream",
          "name": "stdout",
          "text": [
            "The annualized cost of the linear function over the 30 year period is 65.8 $/tCO2.\n"
          ]
        }
      ]
    },
    {
      "cell_type": "code",
      "source": [],
      "metadata": {
        "id": "-AZeoG8MI7Ic"
      },
      "execution_count": null,
      "outputs": []
    }
  ]
}