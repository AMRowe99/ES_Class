{
  "cells": [
    {
      "cell_type": "markdown",
      "metadata": {
        "id": "view-in-github",
        "colab_type": "text"
      },
      "source": [
        "<a href=\"https://colab.research.google.com/github/AMRowe99/ES_Class/blob/main/Logistic_model.ipynb\" target=\"_parent\"><img src=\"https://colab.research.google.com/assets/colab-badge.svg\" alt=\"Open In Colab\"/></a>"
      ]
    },
    {
      "cell_type": "code",
      "execution_count": null,
      "metadata": {
        "id": "5NjtdLQpmzUh"
      },
      "outputs": [],
      "source": [
        "# @title\n",
        "import numpy as np\n",
        "import sympy as smp\n",
        "import matplotlib.pyplot as plt"
      ]
    },
    {
      "cell_type": "markdown",
      "metadata": {
        "id": "HPiPECBMmzUk"
      },
      "source": [
        "# Population Dynamics and Logistic Growth\n",
        "Dynamics of stock changes can be modeled using simple conservation accounting and specific relationships for fluxes, sources, and sinks. For example, the rate of change of population in a region can be written,\n",
        "\n",
        "Rate Balance: $\\frac{{dP}}{{dt}} = {\\dot P_{in}} - {\\dot P_{out}} + {\\dot \\sigma _{birth}} - {\\dot \\sigma _{deaths}}$\n",
        "\n",
        "or\n",
        "\n",
        "Simplified Balance: $ \\frac{{dP}}{{dt}} = {\\dot P_{in}} + {\\dot \\sigma _{birth}} $\n",
        "\n",
        "where flows are positive into the region (immigration) and deaths would be negative births.\n",
        "\n",
        "We can apply a rate law to create an equation in $P(t)$. For example, if we know the birth rate is $\\beta$ % (number born per year /total number of people) and the death rate is δ (number of people who die per year / total number of people), and we are modeling the earth (so there is no immigration, flux across the boundary),\n",
        "\n",
        "$ \\frac{{dP}}{{dt}} = {\\dot \\sigma _{birth}} = \\beta P - \\delta P = {\\beta _n}P$\n",
        "\n",
        "where $\\beta$ is the net birth rate ($\\beta - \\delta$). Solving this equation for $P(t)$ gives an **exponential** growth rate,\n",
        "\n",
        "$ P(t) = {P_0}\\exp ({\\beta _n}t) $\n",
        "\n",
        "# Logistic Growth\n",
        "Exponential growth is typically not representative of real physical quantities (over shorter times, it may be a good representation) as there is a finite size, or magnitude, that can be achieved.\n",
        "\n",
        "We may say that the maximum population is limited to $P_{max}$ and assume that the net birth rate reduces as the maximum population is approached according to,\n",
        "\n",
        "$ \\beta_{n} (P) = \\beta \\left( 1 - \\frac{P} {P_{max}} \\right) $\n",
        "\n",
        "If we apply this rate expression to our population balance (for no immigration), we get an equation known as the **logistic equation**,\n",
        "\n",
        "$ \\frac{dP}{dt} = \\beta P \\left( 1 - \\frac{P}{P_{max}} \\right)$\n",
        "\n",
        "## Non-dimensionalize\n",
        "We can re-write the above in terms of non-dimensionalized time and population,\n",
        "\n",
        "$ t^{*} = \\beta t$ and $ p = \\frac{P}{P_{max}}$\n",
        "\n",
        "so, $ \\frac{dp}{dt^{*}} = p \\left( 1 - p \\right)$\n",
        "\n",
        "These are convenient variables; $p$ varies between 0 and 1 and is the population relative to the maximum possible, $t^{*}$ is relative to the system time constant as defined by $1/\\beta$."
      ]
    },
    {
      "cell_type": "markdown",
      "metadata": {
        "id": "v5qf1vPbmzUm"
      },
      "source": [
        "## Logistic Function\n",
        "We can determine the functional from of the logistic equation by integrating the expression for rate of change.\n",
        "\n",
        "Separating variables,\n",
        "$ \\int \\frac{dp}{p \\left( 1 - p \\right) } = \\int dt^{*}$, and integrating the left hand side,"
      ]
    },
    {
      "cell_type": "code",
      "execution_count": null,
      "metadata": {
        "colab": {
          "base_uri": "https://localhost:8080/",
          "height": 39
        },
        "cellView": "form",
        "id": "WP6FwAFfmzUm",
        "outputId": "95ef36c8-084b-4bd6-a499-7fc77da52c7a"
      },
      "outputs": [
        {
          "output_type": "execute_result",
          "data": {
            "text/plain": [
              "-log(p(t^{*}) - 1) + log(p(t^{*}))"
            ],
            "text/latex": "$\\displaystyle - \\log{\\left(p{\\left(t^{*} \\right)} - 1 \\right)} + \\log{\\left(p{\\left(t^{*} \\right)} \\right)}$"
          },
          "metadata": {},
          "execution_count": 16
        }
      ],
      "source": [
        "# @title\n",
        "tstar= smp.symbols('t^{*}', real=True, positive=True)\n",
        "p= smp.symbols('p', cls=smp.Function)\n",
        "p=p(tstar)\n",
        "\n",
        "# b, Pmax, t0, tf = smp.symbols(['beta', 'P_{max}', 't_{0}', 't_{f}'], real=True, positive=True)\n",
        "\n",
        "fa = (p*(1-p))**(-1)\n",
        "smp.integrate(fa, p) #smp.integrate(fa, (tstar,t0,tf)).doit()"
      ]
    },
    {
      "cell_type": "markdown",
      "source": [
        "We can rewrite the above and evalute for $t^{*}_{0}$ and $t^{*}$,\n",
        "\n",
        "$\\frac{p(t^{*})}{p^{*}(t^{*})-1}-\\frac{p_{0}}{p_{0}-1}= \\exp(t^{*}-t^{*}_{0})$\n",
        "\n",
        "With a bit more algebra and replacing non-dimensional time we have,\n",
        "\n",
        "**Logistic Equation:** $p(t)=\\frac{1}{1+\\frac{1-p_{0}}{p_{0}} \\exp(-\\beta(t-t_{0}))}$"
      ],
      "metadata": {
        "id": "CwV8MRaO95Y4"
      }
    },
    {
      "cell_type": "markdown",
      "metadata": {
        "id": "j5nGOIeHmzUn"
      },
      "source": [
        "# Example\n",
        "\n",
        "The global population in 2010 is 6 Billion and the birth rate is 1.5 %/yr. A logistics model for population growth assumes the maximum population is 9 Billion. What is the projected population in 2050?\n"
      ]
    },
    {
      "cell_type": "markdown",
      "source": [
        "In this case we can set our reference time as 2010, $t_{0}=2010$ and the population as $P_{0}=6$ Billion.\n",
        "At this point, we are told the growth rate, $r=\\frac{1}{P}\\frac{dP}{dt}$=0.015 per year (1.5%/yr).\n",
        "\n",
        "The parameter $\\beta$ is then determined by,\n",
        "$\\frac{1}{P}\\frac{dP}{dt}=\\beta(1-\\frac{P_{0}}{P_{max}})=r$,\n",
        "\n",
        "thus, $\\beta=\\frac{r}{1-P_{0}/P_{max}}=\\frac{r}{1-p_{0}}$."
      ],
      "metadata": {
        "id": "Lw2sFx7vDmuO"
      }
    },
    {
      "cell_type": "code",
      "source": [
        "# @title\n",
        "r0=0.015\n",
        "t0=2010\n",
        "P0=6\n",
        "Pmax=9\n",
        "\n",
        "p0=P0/Pmax\n",
        "\n",
        "beta=r0/(1-p0)\n",
        "\n",
        "Population=lambda year: Pmax*(1+(1-p0)/p0*np.exp(-beta*(year-t0)))**(-1)\n",
        "y=2050\n",
        "print(f\"The population in year {y} is = {Population(y):1.1f} Billion\")"
      ],
      "metadata": {
        "colab": {
          "base_uri": "https://localhost:8080/"
        },
        "cellView": "form",
        "id": "zKIhKkzoGkq3",
        "outputId": "a1365f55-13a1-40ef-b3d0-75d602925488"
      },
      "execution_count": null,
      "outputs": [
        {
          "output_type": "stream",
          "name": "stdout",
          "text": [
            "The population in year 2050 is = 8.3 Billion\n"
          ]
        }
      ]
    },
    {
      "cell_type": "code",
      "execution_count": null,
      "metadata": {
        "colab": {
          "base_uri": "https://localhost:8080/",
          "height": 449
        },
        "cellView": "form",
        "id": "7eafyY57mzUw",
        "outputId": "ae43b8ce-9aa4-4221-8f5f-e83f84beb6e0"
      },
      "outputs": [
        {
          "output_type": "display_data",
          "data": {
            "text/plain": [
              "<Figure size 640x480 with 1 Axes>"
            ],
            "image/png": "[encoded data removed]"
          },
          "metadata": {}
        }
      ],
      "source": [
        "# @title\n",
        "years=np.linspace(2010,2100)\n",
        "P_t=Population(years)\n",
        "plt.plot(years, P_t)\n",
        "plt.xlabel('Year')\n",
        "plt.ylabel('Population [Billion]')\n",
        "plt.show()"
      ]
    },
    {
      "cell_type": "code",
      "source": [],
      "metadata": {
        "id": "Tm-85kvfKIUq"
      },
      "execution_count": null,
      "outputs": []
    }
  ],
  "metadata": {
    "kernelspec": {
      "display_name": "Python 3",
      "language": "python",
      "name": "python3"
    },
    "language_info": {
      "codemirror_mode": {
        "name": "ipython",
        "version": 3
      },
      "file_extension": ".py",
      "mimetype": "text/x-python",
      "name": "python",
      "nbconvert_exporter": "python",
      "pygments_lexer": "ipython3",
      "version": "3.8.5"
    },
    "colab": {
      "provenance": [],
      "include_colab_link": true
    }
  },
  "nbformat": 4,
  "nbformat_minor": 0
}